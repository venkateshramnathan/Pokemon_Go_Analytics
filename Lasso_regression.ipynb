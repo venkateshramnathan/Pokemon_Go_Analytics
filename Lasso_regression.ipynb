{
 "cells": [
  {
   "cell_type": "markdown",
   "metadata": {},
   "source": [
    "# Lasso Regression"
   ]
  },
  {
   "cell_type": "markdown",
   "metadata": {},
   "source": [
    "## importing libraries"
   ]
  },
  {
   "cell_type": "code",
   "execution_count": 1,
   "metadata": {
    "collapsed": true
   },
   "outputs": [],
   "source": [
    "import numpy as np\n",
    "import pandas as pd\n",
    "from sklearn.linear_model import LassoCV"
   ]
  },
  {
   "cell_type": "markdown",
   "metadata": {},
   "source": [
    "# Reading data for android"
   ]
  },
  {
   "cell_type": "code",
   "execution_count": 2,
   "metadata": {},
   "outputs": [
    {
     "data": {
      "text/html": [
       "<div>\n",
       "<table border=\"1\" class=\"dataframe\">\n",
       "  <thead>\n",
       "    <tr style=\"text-align: right;\">\n",
       "      <th></th>\n",
       "      <th>Unnamed: 0.1</th>\n",
       "      <th>android_total_ratings</th>\n",
       "      <th>android_avg_rating</th>\n",
       "      <th>android_file_size</th>\n",
       "      <th>android_rating_4</th>\n",
       "      <th>android_rating_5</th>\n",
       "      <th>android_rating_2</th>\n",
       "      <th>android_rating_3</th>\n",
       "      <th>android_rating_1</th>\n",
       "    </tr>\n",
       "  </thead>\n",
       "  <tbody>\n",
       "    <tr>\n",
       "      <th>0</th>\n",
       "      <td>2016-07-21 00:00:00</td>\n",
       "      <td>1281802</td>\n",
       "      <td>3.9</td>\n",
       "      <td>58.0</td>\n",
       "      <td>165956</td>\n",
       "      <td>726597</td>\n",
       "      <td>71521</td>\n",
       "      <td>117754</td>\n",
       "      <td>199974</td>\n",
       "    </tr>\n",
       "    <tr>\n",
       "      <th>1</th>\n",
       "      <td>2016-07-21 00:10:00</td>\n",
       "      <td>1281802</td>\n",
       "      <td>3.9</td>\n",
       "      <td>58.0</td>\n",
       "      <td>165956</td>\n",
       "      <td>726597</td>\n",
       "      <td>71521</td>\n",
       "      <td>117754</td>\n",
       "      <td>199974</td>\n",
       "    </tr>\n",
       "    <tr>\n",
       "      <th>2</th>\n",
       "      <td>2016-07-21 00:20:00</td>\n",
       "      <td>1281802</td>\n",
       "      <td>3.9</td>\n",
       "      <td>58.0</td>\n",
       "      <td>165956</td>\n",
       "      <td>726597</td>\n",
       "      <td>71521</td>\n",
       "      <td>117754</td>\n",
       "      <td>199974</td>\n",
       "    </tr>\n",
       "    <tr>\n",
       "      <th>3</th>\n",
       "      <td>2016-07-21 00:30:00</td>\n",
       "      <td>1281802</td>\n",
       "      <td>3.9</td>\n",
       "      <td>58.0</td>\n",
       "      <td>165956</td>\n",
       "      <td>726597</td>\n",
       "      <td>71521</td>\n",
       "      <td>117754</td>\n",
       "      <td>199974</td>\n",
       "    </tr>\n",
       "    <tr>\n",
       "      <th>4</th>\n",
       "      <td>2016-07-21 00:40:00</td>\n",
       "      <td>1281802</td>\n",
       "      <td>3.9</td>\n",
       "      <td>58.0</td>\n",
       "      <td>165956</td>\n",
       "      <td>726597</td>\n",
       "      <td>71521</td>\n",
       "      <td>117754</td>\n",
       "      <td>199974</td>\n",
       "    </tr>\n",
       "  </tbody>\n",
       "</table>\n",
       "</div>"
      ],
      "text/plain": [
       "          Unnamed: 0.1  android_total_ratings  android_avg_rating  \\\n",
       "0  2016-07-21 00:00:00                1281802                 3.9   \n",
       "1  2016-07-21 00:10:00                1281802                 3.9   \n",
       "2  2016-07-21 00:20:00                1281802                 3.9   \n",
       "3  2016-07-21 00:30:00                1281802                 3.9   \n",
       "4  2016-07-21 00:40:00                1281802                 3.9   \n",
       "\n",
       "   android_file_size  android_rating_4  android_rating_5  android_rating_2  \\\n",
       "0               58.0            165956            726597             71521   \n",
       "1               58.0            165956            726597             71521   \n",
       "2               58.0            165956            726597             71521   \n",
       "3               58.0            165956            726597             71521   \n",
       "4               58.0            165956            726597             71521   \n",
       "\n",
       "   android_rating_3  android_rating_1  \n",
       "0            117754            199974  \n",
       "1            117754            199974  \n",
       "2            117754            199974  \n",
       "3            117754            199974  \n",
       "4            117754            199974  "
      ]
     },
     "execution_count": 2,
     "metadata": {},
     "output_type": "execute_result"
    }
   ],
   "source": [
    "android_data = pd.read_csv('android_data_modified.csv')\n",
    "android_data.head()"
   ]
  },
  {
   "cell_type": "code",
   "execution_count": 3,
   "metadata": {},
   "outputs": [
    {
     "data": {
      "text/plain": [
       "LassoCV(alphas=array([  1.00000e-04,   1.32035e-04,   1.74333e-04,   2.30181e-04,\n",
       "         3.03920e-04,   4.01281e-04,   5.29832e-04,   6.99564e-04,\n",
       "         9.23671e-04,   1.21957e-03,   1.61026e-03,   2.12611e-03,\n",
       "         2.80722e-03,   3.70651e-03,   4.89390e-03,   6.46167e-03,\n",
       "         8.53168e-03,   1...     7.88046e-02,   1.04050e-01,   1.37382e-01,   1.81393e-01,\n",
       "         2.39503e-01,   3.16228e-01]),\n",
       "    copy_X=True, cv=None, eps=0.001, fit_intercept=True, max_iter=1000,\n",
       "    n_alphas=100, n_jobs=1, normalize=False, positive=False,\n",
       "    precompute='auto', random_state=0, selection='cyclic', tol=0.0001,\n",
       "    verbose=False)"
      ]
     },
     "execution_count": 3,
     "metadata": {},
     "output_type": "execute_result"
    }
   ],
   "source": [
    "alphas = np.logspace(-4, -0.5, 30)\n",
    "lassocv_model_android = LassoCV(alphas=alphas, random_state=0)\n",
    "lassocv_model_android"
   ]
  },
  {
   "cell_type": "code",
   "execution_count": 4,
   "metadata": {},
   "outputs": [
    {
     "data": {
      "text/plain": [
       "LassoCV(alphas=array([  1.00000e-04,   1.32035e-04,   1.74333e-04,   2.30181e-04,\n",
       "         3.03920e-04,   4.01281e-04,   5.29832e-04,   6.99564e-04,\n",
       "         9.23671e-04,   1.21957e-03,   1.61026e-03,   2.12611e-03,\n",
       "         2.80722e-03,   3.70651e-03,   4.89390e-03,   6.46167e-03,\n",
       "         8.53168e-03,   1...     7.88046e-02,   1.04050e-01,   1.37382e-01,   1.81393e-01,\n",
       "         2.39503e-01,   3.16228e-01]),\n",
       "    copy_X=True, cv=None, eps=0.001, fit_intercept=True, max_iter=1000,\n",
       "    n_alphas=100, n_jobs=1, normalize=False, positive=False,\n",
       "    precompute='auto', random_state=0, selection='cyclic', tol=0.0001,\n",
       "    verbose=False)"
      ]
     },
     "execution_count": 4,
     "metadata": {},
     "output_type": "execute_result"
    }
   ],
   "source": [
    "lassocv_model_android.fit(android_data.iloc[:, [2,3,4,5,6,7,8]], android_data.iloc[:,1])"
   ]
  },
  {
   "cell_type": "code",
   "execution_count": 5,
   "metadata": {},
   "outputs": [
    {
     "name": "stderr",
     "output_type": "stream",
     "text": [
      "C:\\Users\\Gaurav Kolekar\\Anaconda3\\envs\\env_tf\\lib\\site-packages\\sklearn\\utils\\validation.py:395: DeprecationWarning: Passing 1d arrays as data is deprecated in 0.17 and will raise ValueError in 0.19. Reshape your data either using X.reshape(-1, 1) if your data has a single feature or X.reshape(1, -1) if it contains a single sample.\n",
      "  DeprecationWarning)\n"
     ]
    },
    {
     "data": {
      "text/plain": [
       "array([ 7013087.03581924])"
      ]
     },
     "execution_count": 5,
     "metadata": {},
     "output_type": "execute_result"
    }
   ],
   "source": [
    "lassocv_model_android.predict(android_data.iloc[-1,:][2:])"
   ]
  },
  {
   "cell_type": "markdown",
   "metadata": {},
   "source": [
    "## Reading ios data"
   ]
  },
  {
   "cell_type": "code",
   "execution_count": 6,
   "metadata": {},
   "outputs": [
    {
     "data": {
      "text/html": [
       "<div>\n",
       "<table border=\"1\" class=\"dataframe\">\n",
       "  <thead>\n",
       "    <tr style=\"text-align: right;\">\n",
       "      <th></th>\n",
       "      <th>Unnamed: 0.1</th>\n",
       "      <th>ios_file_size</th>\n",
       "      <th>ios_all_ratings</th>\n",
       "      <th>ios_current_ratings</th>\n",
       "    </tr>\n",
       "  </thead>\n",
       "  <tbody>\n",
       "    <tr>\n",
       "      <th>0</th>\n",
       "      <td>21-07-2016 00:00</td>\n",
       "      <td>110</td>\n",
       "      <td>106508</td>\n",
       "      <td>4688</td>\n",
       "    </tr>\n",
       "    <tr>\n",
       "      <th>1</th>\n",
       "      <td>21-07-2016 00:10</td>\n",
       "      <td>110</td>\n",
       "      <td>106508</td>\n",
       "      <td>4688</td>\n",
       "    </tr>\n",
       "    <tr>\n",
       "      <th>2</th>\n",
       "      <td>21-07-2016 00:20</td>\n",
       "      <td>110</td>\n",
       "      <td>106508</td>\n",
       "      <td>4688</td>\n",
       "    </tr>\n",
       "    <tr>\n",
       "      <th>3</th>\n",
       "      <td>21-07-2016 00:30</td>\n",
       "      <td>110</td>\n",
       "      <td>106508</td>\n",
       "      <td>4688</td>\n",
       "    </tr>\n",
       "    <tr>\n",
       "      <th>4</th>\n",
       "      <td>21-07-2016 00:40</td>\n",
       "      <td>110</td>\n",
       "      <td>106508</td>\n",
       "      <td>4688</td>\n",
       "    </tr>\n",
       "  </tbody>\n",
       "</table>\n",
       "</div>"
      ],
      "text/plain": [
       "       Unnamed: 0.1  ios_file_size  ios_all_ratings  ios_current_ratings\n",
       "0  21-07-2016 00:00            110           106508                 4688\n",
       "1  21-07-2016 00:10            110           106508                 4688\n",
       "2  21-07-2016 00:20            110           106508                 4688\n",
       "3  21-07-2016 00:30            110           106508                 4688\n",
       "4  21-07-2016 00:40            110           106508                 4688"
      ]
     },
     "execution_count": 6,
     "metadata": {},
     "output_type": "execute_result"
    }
   ],
   "source": [
    "ios_data = pd.read_csv('ios_data.csv')\n",
    "ios_data = ios_data.iloc[:,1:]\n",
    "ios_data.head()"
   ]
  },
  {
   "cell_type": "code",
   "execution_count": 7,
   "metadata": {},
   "outputs": [
    {
     "data": {
      "text/plain": [
       "LassoCV(alphas=array([  1.00000e-04,   1.32035e-04,   1.74333e-04,   2.30181e-04,\n",
       "         3.03920e-04,   4.01281e-04,   5.29832e-04,   6.99564e-04,\n",
       "         9.23671e-04,   1.21957e-03,   1.61026e-03,   2.12611e-03,\n",
       "         2.80722e-03,   3.70651e-03,   4.89390e-03,   6.46167e-03,\n",
       "         8.53168e-03,   1...     7.88046e-02,   1.04050e-01,   1.37382e-01,   1.81393e-01,\n",
       "         2.39503e-01,   3.16228e-01]),\n",
       "    copy_X=True, cv=None, eps=0.001, fit_intercept=True, max_iter=1000,\n",
       "    n_alphas=100, n_jobs=1, normalize=False, positive=False,\n",
       "    precompute='auto', random_state=0, selection='cyclic', tol=0.0001,\n",
       "    verbose=False)"
      ]
     },
     "execution_count": 7,
     "metadata": {},
     "output_type": "execute_result"
    }
   ],
   "source": [
    "alphas = np.logspace(-4, -0.5, 30)\n",
    "lassocv_model_ios = LassoCV(alphas=alphas, random_state=0)\n",
    "lassocv_model_ios"
   ]
  },
  {
   "cell_type": "code",
   "execution_count": 9,
   "metadata": {},
   "outputs": [
    {
     "data": {
      "text/plain": [
       "LassoCV(alphas=array([  1.00000e-04,   1.32035e-04,   1.74333e-04,   2.30181e-04,\n",
       "         3.03920e-04,   4.01281e-04,   5.29832e-04,   6.99564e-04,\n",
       "         9.23671e-04,   1.21957e-03,   1.61026e-03,   2.12611e-03,\n",
       "         2.80722e-03,   3.70651e-03,   4.89390e-03,   6.46167e-03,\n",
       "         8.53168e-03,   1...     7.88046e-02,   1.04050e-01,   1.37382e-01,   1.81393e-01,\n",
       "         2.39503e-01,   3.16228e-01]),\n",
       "    copy_X=True, cv=None, eps=0.001, fit_intercept=True, max_iter=1000,\n",
       "    n_alphas=100, n_jobs=1, normalize=False, positive=False,\n",
       "    precompute='auto', random_state=0, selection='cyclic', tol=0.0001,\n",
       "    verbose=False)"
      ]
     },
     "execution_count": 9,
     "metadata": {},
     "output_type": "execute_result"
    }
   ],
   "source": [
    "lassocv_model_ios.fit(ios_data.iloc[:,[1,3]], ios_data.iloc[:,2])"
   ]
  },
  {
   "cell_type": "code",
   "execution_count": 10,
   "metadata": {},
   "outputs": [
    {
     "data": {
      "text/plain": [
       "Unnamed: 0.1           31-10-2016 23:50\n",
       "ios_file_size                       259\n",
       "ios_all_ratings                  230601\n",
       "ios_current_ratings                2436\n",
       "Name: 14316, dtype: object"
      ]
     },
     "execution_count": 10,
     "metadata": {},
     "output_type": "execute_result"
    }
   ],
   "source": [
    "ios_data.iloc[-1,:]"
   ]
  },
  {
   "cell_type": "code",
   "execution_count": 11,
   "metadata": {},
   "outputs": [
    {
     "data": {
      "text/plain": [
       "ios_file_size           259\n",
       "ios_current_ratings    2436\n",
       "Name: 14316, dtype: object"
      ]
     },
     "execution_count": 11,
     "metadata": {},
     "output_type": "execute_result"
    }
   ],
   "source": [
    "ios_data.iloc[-1, [1,3]]"
   ]
  },
  {
   "cell_type": "code",
   "execution_count": 12,
   "metadata": {},
   "outputs": [
    {
     "name": "stderr",
     "output_type": "stream",
     "text": [
      "C:\\Users\\Gaurav Kolekar\\Anaconda3\\envs\\env_tf\\lib\\site-packages\\sklearn\\utils\\validation.py:395: DeprecationWarning: Passing 1d arrays as data is deprecated in 0.17 and will raise ValueError in 0.19. Reshape your data either using X.reshape(-1, 1) if your data has a single feature or X.reshape(1, -1) if it contains a single sample.\n",
      "  DeprecationWarning)\n"
     ]
    },
    {
     "data": {
      "text/plain": [
       "array([ 225650.92877818])"
      ]
     },
     "execution_count": 12,
     "metadata": {},
     "output_type": "execute_result"
    }
   ],
   "source": [
    "lassocv_model_ios.predict(ios_data.iloc[-1, [1,3]])"
   ]
  },
  {
   "cell_type": "code",
   "execution_count": 13,
   "metadata": {},
   "outputs": [
    {
     "data": {
      "text/html": [
       "<div>\n",
       "<table border=\"1\" class=\"dataframe\">\n",
       "  <thead>\n",
       "    <tr style=\"text-align: right;\">\n",
       "      <th></th>\n",
       "      <th>Unnamed: 0.1</th>\n",
       "      <th>ios_file_size</th>\n",
       "      <th>ios_all_ratings</th>\n",
       "      <th>ios_current_ratings</th>\n",
       "    </tr>\n",
       "  </thead>\n",
       "  <tbody>\n",
       "    <tr>\n",
       "      <th>14312</th>\n",
       "      <td>31-10-2016 23:10</td>\n",
       "      <td>259</td>\n",
       "      <td>230525</td>\n",
       "      <td>2353</td>\n",
       "    </tr>\n",
       "    <tr>\n",
       "      <th>14313</th>\n",
       "      <td>31-10-2016 23:20</td>\n",
       "      <td>259</td>\n",
       "      <td>230525</td>\n",
       "      <td>2353</td>\n",
       "    </tr>\n",
       "    <tr>\n",
       "      <th>14314</th>\n",
       "      <td>31-10-2016 23:30</td>\n",
       "      <td>259</td>\n",
       "      <td>230525</td>\n",
       "      <td>2353</td>\n",
       "    </tr>\n",
       "    <tr>\n",
       "      <th>14315</th>\n",
       "      <td>31-10-2016 23:40</td>\n",
       "      <td>259</td>\n",
       "      <td>230601</td>\n",
       "      <td>2436</td>\n",
       "    </tr>\n",
       "    <tr>\n",
       "      <th>14316</th>\n",
       "      <td>31-10-2016 23:50</td>\n",
       "      <td>259</td>\n",
       "      <td>230601</td>\n",
       "      <td>2436</td>\n",
       "    </tr>\n",
       "  </tbody>\n",
       "</table>\n",
       "</div>"
      ],
      "text/plain": [
       "           Unnamed: 0.1  ios_file_size  ios_all_ratings  ios_current_ratings\n",
       "14312  31-10-2016 23:10            259           230525                 2353\n",
       "14313  31-10-2016 23:20            259           230525                 2353\n",
       "14314  31-10-2016 23:30            259           230525                 2353\n",
       "14315  31-10-2016 23:40            259           230601                 2436\n",
       "14316  31-10-2016 23:50            259           230601                 2436"
      ]
     },
     "execution_count": 13,
     "metadata": {},
     "output_type": "execute_result"
    }
   ],
   "source": [
    "ios_data.tail()"
   ]
  },
  {
   "cell_type": "code",
   "execution_count": null,
   "metadata": {
    "collapsed": true
   },
   "outputs": [],
   "source": []
  }
 ],
 "metadata": {
  "kernelspec": {
   "display_name": "Python 3",
   "language": "python",
   "name": "python3"
  },
  "language_info": {
   "codemirror_mode": {
    "name": "ipython",
    "version": 3
   },
   "file_extension": ".py",
   "mimetype": "text/x-python",
   "name": "python",
   "nbconvert_exporter": "python",
   "pygments_lexer": "ipython3",
   "version": "3.5.3"
  }
 },
 "nbformat": 4,
 "nbformat_minor": 2
}
