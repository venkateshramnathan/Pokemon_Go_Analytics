{
 "cells": [
  {
   "cell_type": "markdown",
   "metadata": {},
   "source": [
    "# Random Forest Regressor"
   ]
  },
  {
   "cell_type": "markdown",
   "metadata": {},
   "source": [
    "## importing libraries"
   ]
  },
  {
   "cell_type": "code",
   "execution_count": 1,
   "metadata": {
    "collapsed": true
   },
   "outputs": [],
   "source": [
    "import numpy as np\n",
    "import pandas as pd\n",
    "from sklearn.ensemble import RandomForestRegressor"
   ]
  },
  {
   "cell_type": "markdown",
   "metadata": {},
   "source": [
    "## Reading android data"
   ]
  },
  {
   "cell_type": "code",
   "execution_count": 2,
   "metadata": {
    "collapsed": true
   },
   "outputs": [],
   "source": [
    "android_data = pd.read_csv('android_data_modified.csv')\n"
   ]
  },
  {
   "cell_type": "code",
   "execution_count": 3,
   "metadata": {
    "collapsed": true
   },
   "outputs": [],
   "source": [
    "random_forest_model_android = RandomForestRegressor()"
   ]
  },
  {
   "cell_type": "code",
   "execution_count": 4,
   "metadata": {},
   "outputs": [
    {
     "data": {
      "text/plain": [
       "RandomForestRegressor(bootstrap=True, criterion='mse', max_depth=None,\n",
       "           max_features='auto', max_leaf_nodes=None,\n",
       "           min_impurity_split=1e-07, min_samples_leaf=1,\n",
       "           min_samples_split=2, min_weight_fraction_leaf=0.0,\n",
       "           n_estimators=10, n_jobs=1, oob_score=False, random_state=None,\n",
       "           verbose=0, warm_start=False)"
      ]
     },
     "execution_count": 4,
     "metadata": {},
     "output_type": "execute_result"
    }
   ],
   "source": [
    "random_forest_model_android.fit(android_data.iloc[:, [2,3,4,5,6,7,8]], android_data.iloc[:,1])"
   ]
  },
  {
   "cell_type": "code",
   "execution_count": 5,
   "metadata": {},
   "outputs": [
    {
     "name": "stderr",
     "output_type": "stream",
     "text": [
      "C:\\Users\\Gaurav Kolekar\\Anaconda3\\envs\\env_tf\\lib\\site-packages\\sklearn\\utils\\validation.py:395: DeprecationWarning: Passing 1d arrays as data is deprecated in 0.17 and will raise ValueError in 0.19. Reshape your data either using X.reshape(-1, 1) if your data has a single feature or X.reshape(1, -1) if it contains a single sample.\n",
      "  DeprecationWarning)\n"
     ]
    },
    {
     "data": {
      "text/plain": [
       "array([ 7004878.9])"
      ]
     },
     "execution_count": 5,
     "metadata": {},
     "output_type": "execute_result"
    }
   ],
   "source": [
    "random_forest_model_android.predict(android_data.iloc[-1,2:])"
   ]
  },
  {
   "cell_type": "code",
   "execution_count": 6,
   "metadata": {},
   "outputs": [
    {
     "data": {
      "text/html": [
       "<div>\n",
       "<table border=\"1\" class=\"dataframe\">\n",
       "  <thead>\n",
       "    <tr style=\"text-align: right;\">\n",
       "      <th></th>\n",
       "      <th>Unnamed: 0.1</th>\n",
       "      <th>android_total_ratings</th>\n",
       "      <th>android_avg_rating</th>\n",
       "      <th>android_file_size</th>\n",
       "      <th>android_rating_4</th>\n",
       "      <th>android_rating_5</th>\n",
       "      <th>android_rating_2</th>\n",
       "      <th>android_rating_3</th>\n",
       "      <th>android_rating_1</th>\n",
       "    </tr>\n",
       "  </thead>\n",
       "  <tbody>\n",
       "    <tr>\n",
       "      <th>14779</th>\n",
       "      <td>2016-10-31 23:10:00</td>\n",
       "      <td>7003505</td>\n",
       "      <td>4.0</td>\n",
       "      <td>77.0</td>\n",
       "      <td>856048</td>\n",
       "      <td>4351592</td>\n",
       "      <td>285049</td>\n",
       "      <td>528559</td>\n",
       "      <td>982257</td>\n",
       "    </tr>\n",
       "    <tr>\n",
       "      <th>14780</th>\n",
       "      <td>2016-10-31 23:20:00</td>\n",
       "      <td>7003505</td>\n",
       "      <td>4.0</td>\n",
       "      <td>77.0</td>\n",
       "      <td>856048</td>\n",
       "      <td>4351592</td>\n",
       "      <td>285049</td>\n",
       "      <td>528559</td>\n",
       "      <td>982257</td>\n",
       "    </tr>\n",
       "    <tr>\n",
       "      <th>14781</th>\n",
       "      <td>2016-10-31 23:30:00</td>\n",
       "      <td>7003505</td>\n",
       "      <td>4.0</td>\n",
       "      <td>77.0</td>\n",
       "      <td>856048</td>\n",
       "      <td>4351592</td>\n",
       "      <td>285049</td>\n",
       "      <td>528559</td>\n",
       "      <td>982257</td>\n",
       "    </tr>\n",
       "    <tr>\n",
       "      <th>14782</th>\n",
       "      <td>2016-10-31 23:40:00</td>\n",
       "      <td>7003524</td>\n",
       "      <td>4.0</td>\n",
       "      <td>77.0</td>\n",
       "      <td>856048</td>\n",
       "      <td>4351611</td>\n",
       "      <td>285051</td>\n",
       "      <td>528559</td>\n",
       "      <td>982255</td>\n",
       "    </tr>\n",
       "    <tr>\n",
       "      <th>14783</th>\n",
       "      <td>2016-10-31 23:50:00</td>\n",
       "      <td>7005220</td>\n",
       "      <td>4.0</td>\n",
       "      <td>77.0</td>\n",
       "      <td>856213</td>\n",
       "      <td>4352574</td>\n",
       "      <td>285115</td>\n",
       "      <td>528687</td>\n",
       "      <td>982631</td>\n",
       "    </tr>\n",
       "  </tbody>\n",
       "</table>\n",
       "</div>"
      ],
      "text/plain": [
       "              Unnamed: 0.1  android_total_ratings  android_avg_rating  \\\n",
       "14779  2016-10-31 23:10:00                7003505                 4.0   \n",
       "14780  2016-10-31 23:20:00                7003505                 4.0   \n",
       "14781  2016-10-31 23:30:00                7003505                 4.0   \n",
       "14782  2016-10-31 23:40:00                7003524                 4.0   \n",
       "14783  2016-10-31 23:50:00                7005220                 4.0   \n",
       "\n",
       "       android_file_size  android_rating_4  android_rating_5  \\\n",
       "14779               77.0            856048           4351592   \n",
       "14780               77.0            856048           4351592   \n",
       "14781               77.0            856048           4351592   \n",
       "14782               77.0            856048           4351611   \n",
       "14783               77.0            856213           4352574   \n",
       "\n",
       "       android_rating_2  android_rating_3  android_rating_1  \n",
       "14779            285049            528559            982257  \n",
       "14780            285049            528559            982257  \n",
       "14781            285049            528559            982257  \n",
       "14782            285051            528559            982255  \n",
       "14783            285115            528687            982631  "
      ]
     },
     "execution_count": 6,
     "metadata": {},
     "output_type": "execute_result"
    }
   ],
   "source": [
    "android_data.tail()"
   ]
  },
  {
   "cell_type": "markdown",
   "metadata": {},
   "source": [
    "## Reading ios data"
   ]
  },
  {
   "cell_type": "code",
   "execution_count": 7,
   "metadata": {
    "collapsed": true
   },
   "outputs": [],
   "source": [
    "ios_data = pd.read_csv('ios_data.csv')\n",
    "ios_data = ios_data.iloc[:,1:]"
   ]
  },
  {
   "cell_type": "code",
   "execution_count": 8,
   "metadata": {
    "collapsed": true
   },
   "outputs": [],
   "source": [
    "random_forest_model_ios = RandomForestRegressor()"
   ]
  },
  {
   "cell_type": "code",
   "execution_count": 9,
   "metadata": {},
   "outputs": [
    {
     "data": {
      "text/plain": [
       "RandomForestRegressor(bootstrap=True, criterion='mse', max_depth=None,\n",
       "           max_features='auto', max_leaf_nodes=None,\n",
       "           min_impurity_split=1e-07, min_samples_leaf=1,\n",
       "           min_samples_split=2, min_weight_fraction_leaf=0.0,\n",
       "           n_estimators=10, n_jobs=1, oob_score=False, random_state=None,\n",
       "           verbose=0, warm_start=False)"
      ]
     },
     "execution_count": 9,
     "metadata": {},
     "output_type": "execute_result"
    }
   ],
   "source": [
    "random_forest_model_ios.fit(ios_data.iloc[:,[1,3]], ios_data.iloc[:,2])"
   ]
  },
  {
   "cell_type": "code",
   "execution_count": 10,
   "metadata": {},
   "outputs": [
    {
     "name": "stderr",
     "output_type": "stream",
     "text": [
      "C:\\Users\\Gaurav Kolekar\\Anaconda3\\envs\\env_tf\\lib\\site-packages\\sklearn\\utils\\validation.py:395: DeprecationWarning: Passing 1d arrays as data is deprecated in 0.17 and will raise ValueError in 0.19. Reshape your data either using X.reshape(-1, 1) if your data has a single feature or X.reshape(1, -1) if it contains a single sample.\n",
      "  DeprecationWarning)\n"
     ]
    },
    {
     "data": {
      "text/plain": [
       "array([ 230592.635])"
      ]
     },
     "execution_count": 10,
     "metadata": {},
     "output_type": "execute_result"
    }
   ],
   "source": [
    "random_forest_model_ios.predict(ios_data.iloc[-1, [1,3]])"
   ]
  },
  {
   "cell_type": "code",
   "execution_count": 11,
   "metadata": {},
   "outputs": [
    {
     "data": {
      "text/html": [
       "<div>\n",
       "<table border=\"1\" class=\"dataframe\">\n",
       "  <thead>\n",
       "    <tr style=\"text-align: right;\">\n",
       "      <th></th>\n",
       "      <th>Unnamed: 0.1</th>\n",
       "      <th>ios_file_size</th>\n",
       "      <th>ios_all_ratings</th>\n",
       "      <th>ios_current_ratings</th>\n",
       "    </tr>\n",
       "  </thead>\n",
       "  <tbody>\n",
       "    <tr>\n",
       "      <th>14312</th>\n",
       "      <td>31-10-2016 23:10</td>\n",
       "      <td>259</td>\n",
       "      <td>230525</td>\n",
       "      <td>2353</td>\n",
       "    </tr>\n",
       "    <tr>\n",
       "      <th>14313</th>\n",
       "      <td>31-10-2016 23:20</td>\n",
       "      <td>259</td>\n",
       "      <td>230525</td>\n",
       "      <td>2353</td>\n",
       "    </tr>\n",
       "    <tr>\n",
       "      <th>14314</th>\n",
       "      <td>31-10-2016 23:30</td>\n",
       "      <td>259</td>\n",
       "      <td>230525</td>\n",
       "      <td>2353</td>\n",
       "    </tr>\n",
       "    <tr>\n",
       "      <th>14315</th>\n",
       "      <td>31-10-2016 23:40</td>\n",
       "      <td>259</td>\n",
       "      <td>230601</td>\n",
       "      <td>2436</td>\n",
       "    </tr>\n",
       "    <tr>\n",
       "      <th>14316</th>\n",
       "      <td>31-10-2016 23:50</td>\n",
       "      <td>259</td>\n",
       "      <td>230601</td>\n",
       "      <td>2436</td>\n",
       "    </tr>\n",
       "  </tbody>\n",
       "</table>\n",
       "</div>"
      ],
      "text/plain": [
       "           Unnamed: 0.1  ios_file_size  ios_all_ratings  ios_current_ratings\n",
       "14312  31-10-2016 23:10            259           230525                 2353\n",
       "14313  31-10-2016 23:20            259           230525                 2353\n",
       "14314  31-10-2016 23:30            259           230525                 2353\n",
       "14315  31-10-2016 23:40            259           230601                 2436\n",
       "14316  31-10-2016 23:50            259           230601                 2436"
      ]
     },
     "execution_count": 11,
     "metadata": {},
     "output_type": "execute_result"
    }
   ],
   "source": [
    "ios_data.tail()"
   ]
  },
  {
   "cell_type": "code",
   "execution_count": null,
   "metadata": {
    "collapsed": true
   },
   "outputs": [],
   "source": []
  }
 ],
 "metadata": {
  "kernelspec": {
   "display_name": "Python 3",
   "language": "python",
   "name": "python3"
  },
  "language_info": {
   "codemirror_mode": {
    "name": "ipython",
    "version": 3
   },
   "file_extension": ".py",
   "mimetype": "text/x-python",
   "name": "python",
   "nbconvert_exporter": "python",
   "pygments_lexer": "ipython3",
   "version": "3.6.1"
  }
 },
 "nbformat": 4,
 "nbformat_minor": 2
}
